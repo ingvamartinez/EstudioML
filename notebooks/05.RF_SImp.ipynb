{
 "cells": [
  {
   "cell_type": "markdown",
   "metadata": {},
   "source": [
    "# RandomForest-SimpeImputer"
   ]
  },
  {
   "cell_type": "code",
   "execution_count": 140,
   "metadata": {},
   "outputs": [],
   "source": [
    "#importamos las librerias\n",
    "from sklearn.ensemble import RandomForestRegressor\n",
    "from sklearn.metrics import mean_absolute_error\n",
    "from sklearn.model_selection import train_test_split\n",
    "from sklearn.impute import SimpleImputer\n",
    "import pandas as pd\n",
    "import os\n",
    "import numpy as np\n",
    "from pathlib import Path"
   ]
  },
  {
   "cell_type": "code",
   "execution_count": 141,
   "metadata": {},
   "outputs": [
    {
     "name": "stdout",
     "output_type": "stream",
     "text": [
      "Dimensiones:  2\n",
      "Shape:  (13580, 21)\n",
      "       Suburb           Address  Rooms Type      Price Method SellerG  \\\n",
      "0  Abbotsford      85 Turner St      2    h  1480000.0      S  Biggin   \n",
      "1  Abbotsford   25 Bloomburg St      2    h  1035000.0      S  Biggin   \n",
      "2  Abbotsford      5 Charles St      3    h  1465000.0     SP  Biggin   \n",
      "3  Abbotsford  40 Federation La      3    h   850000.0     PI  Biggin   \n",
      "4  Abbotsford       55a Park St      4    h  1600000.0     VB  Nelson   \n",
      "\n",
      "        Date  Distance  Postcode  ...  Bathroom  Car  Landsize  BuildingArea  \\\n",
      "0  3/12/2016       2.5    3067.0  ...       1.0  1.0     202.0           NaN   \n",
      "1  4/02/2016       2.5    3067.0  ...       1.0  0.0     156.0          79.0   \n",
      "2  4/03/2017       2.5    3067.0  ...       2.0  0.0     134.0         150.0   \n",
      "3  4/03/2017       2.5    3067.0  ...       2.0  1.0      94.0           NaN   \n",
      "4  4/06/2016       2.5    3067.0  ...       1.0  2.0     120.0         142.0   \n",
      "\n",
      "   YearBuilt  CouncilArea Lattitude  Longtitude             Regionname  \\\n",
      "0        NaN        Yarra  -37.7996    144.9984  Northern Metropolitan   \n",
      "1     1900.0        Yarra  -37.8079    144.9934  Northern Metropolitan   \n",
      "2     1900.0        Yarra  -37.8093    144.9944  Northern Metropolitan   \n",
      "3        NaN        Yarra  -37.7969    144.9969  Northern Metropolitan   \n",
      "4     2014.0        Yarra  -37.8072    144.9941  Northern Metropolitan   \n",
      "\n",
      "  Propertycount  \n",
      "0        4019.0  \n",
      "1        4019.0  \n",
      "2        4019.0  \n",
      "3        4019.0  \n",
      "4        4019.0  \n",
      "\n",
      "[5 rows x 21 columns]\n"
     ]
    }
   ],
   "source": [
    "#Cargamos la data\n",
    "root=Path(\".\").resolve().parent\n",
    "filename='melb_data.csv'\n",
    "filepath=os.path.join(root,'data','raw',filename)\n",
    "df=pd.read_csv(filepath)\n",
    "print(\"Dimensiones: \",df.ndim)\n",
    "print(\"Shape: \",df.shape)\n",
    "print(df.head())"
   ]
  },
  {
   "cell_type": "code",
   "execution_count": 142,
   "metadata": {},
   "outputs": [],
   "source": [
    "#selccionamos solo las variables numericas\n",
    "y=df.Price\n",
    "X_f=df.copy()\n",
    "X_f.drop('Price',axis=1,inplace=True)\n",
    "X=X_f\n",
    "X=X.select_dtypes(exclude=['object'])\n",
    "train_X,valid_X,train_y,valid_y=train_test_split(X,y,test_size=0.2,train_size=0.8,random_state=0)"
   ]
  },
  {
   "cell_type": "code",
   "execution_count": 143,
   "metadata": {},
   "outputs": [
    {
     "data": {
      "text/plain": [
       "['Car', 'BuildingArea', 'YearBuilt']"
      ]
     },
     "execution_count": 143,
     "metadata": {},
     "output_type": "execute_result"
    }
   ],
   "source": [
    "#hacemos una copia de train_X y valid_X\n",
    "train_X_plus=train_X.copy()\n",
    "valid_X_plus=valid_X.copy()\n",
    "\n",
    "#buscamos las columnas con nulls\n",
    "cols=train_X_plus.columns\n",
    "\n",
    "cols_nulls=[col for col in train_X.columns if train_X[col].isnull().any()]\n",
    "cols_nulls\n",
    "\n"
   ]
  },
  {
   "cell_type": "code",
   "execution_count": 144,
   "metadata": {},
   "outputs": [],
   "source": [
    "#agregamos las columnas con boolean si el registro es null para hacerla seguimiento\n",
    "for col in cols_nulls:\n",
    "    train_X_plus[col+\"_nulls\"]=train_X_plus[col].isnull()\n",
    "    valid_X_plus[col+\"_nulls\"]=valid_X_plus[col].isnull()\n",
    "\n",
    "#aplicamos el imputer\n",
    "    \n",
    "imp=SimpleImputer()\n",
    "\n",
    "train_X_imp=pd.DataFrame(imp.fit_transform(train_X_plus))\n",
    "valid_X_imp=pd.DataFrame(imp.transform(valid_X_plus))\n",
    "\n",
    "train_X_imp.columns=train_X_plus.columns\n",
    "valid_X_imp.columns=valid_X_plus.columns\n"
   ]
  },
  {
   "cell_type": "code",
   "execution_count": 145,
   "metadata": {},
   "outputs": [],
   "source": [
    "#habiendo imputado los valores realizamos entrenaremos el modelo\n",
    "\n",
    "def modelRFR(train_X,valid_X,train_y,valid_y,n_est=10):\n",
    "    model=RandomForestRegressor(n_estimators=n_est,random_state=0)\n",
    "    model.fit(train_X_imp,train_y)  \n",
    "    predicts=model.predict(valid_X_imp)\n",
    "    mae=mean_absolute_error(valid_y,predicts)\n",
    "    print(\"MAE: \",mae)\n",
    "    return mae\n",
    "\n"
   ]
  },
  {
   "cell_type": "code",
   "execution_count": 151,
   "metadata": {},
   "outputs": [
    {
     "name": "stdout",
     "output_type": "stream",
     "text": [
      "['Type', 'Method', 'Regionname']\n",
      "['Rooms', 'Distance', 'Postcode', 'Bedroom2', 'Bathroom', 'Car', 'Landsize', 'BuildingArea', 'YearBuilt', 'Lattitude', 'Longtitude', 'Propertycount']\n"
     ]
    }
   ],
   "source": [
    "low_car=[cname for cname in X_f.columns if X_f[cname].nunique() < 10 and X_f[cname].dtype =='object']\n",
    "print(low_car)\n",
    "col_num=[cname for cname in X_f.columns if X_f[cname].dtype in ['int64', 'float64']]\n",
    "print(col_num)"
   ]
  }
 ],
 "metadata": {
  "kernelspec": {
   "display_name": "base",
   "language": "python",
   "name": "python3"
  },
  "language_info": {
   "codemirror_mode": {
    "name": "ipython",
    "version": 3
   },
   "file_extension": ".py",
   "mimetype": "text/x-python",
   "name": "python",
   "nbconvert_exporter": "python",
   "pygments_lexer": "ipython3",
   "version": "3.10.9"
  }
 },
 "nbformat": 4,
 "nbformat_minor": 2
}

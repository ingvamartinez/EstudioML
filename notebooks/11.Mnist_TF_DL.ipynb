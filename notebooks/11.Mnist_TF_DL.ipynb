{
 "cells": [
  {
   "cell_type": "markdown",
   "metadata": {},
   "source": [
    "# Entrenamiento de red neuronal multicapa para clasificacion\n",
    "\n",
    "##### [Data Source:](https://www.kaggle.com/datasets/hojjatk/mnist-dataset?phase=FinishSSORegistration&returnUrl=%2Fdatasets%2Fhojjatk%2Fmnist-dataset%2Fversions%2F1%3Fresource%3Ddownload&SSORegistrationToken=CfDJ8LRqC2zgEF1Isw0Bk0-7U-4MJq2ILrMgh2UvSD-rCCFemukVTjrFusXTp4MxRRLkn2m904i6uwjNsEf4OyC2vQulM8ICMo8kLxnonXEBEFz9KFYM2O1asemi6A0fACc0_4uzsAgGwFnwtvq-WRc2a_vC89MgfFPA31VCy6XLoO-PO4rEvsuL-XG6nUM0qRhTMD-oLsU5Z3khAuPQJAZpaTLhxCim70lrfsV-vbyJUM7ZvJCU5VowT0c7V8VlSply_61VKjCwa817fi1aehv4CKe2t49Jq8zSspoaia2MkLW6dy_ZGKxDMVR46-HYoqcqUvImIO2fSbiJlA7sFk-YBTMMO6NIZiiy&DisplayName=Adrian+Martinez&select=train-labels.idx1-ubyte#) La data se tomo de Kaggle. aunque tambien tensorflow tiene un objeto con este data set.\n",
    "\n",
    "- train-images-idx3-ubyte.gz: training set images (9912422 bytes)\n",
    "- train-labels-idx1-ubyte.gz: training set labels (28881 bytes)\n",
    "- t10k-images-idx3-ubyte.gz: test set images (1648877 bytes)\n",
    "- t10k-labels-idx1-ubyte.gz: test set labels (4542 bytes)\n",
    "\n",
    "##### Este data contiene 60k imagenes las cuales tienen diferentes formas de como son escritos los numero de 0 al 9, en este projecto realizaremos la clasificacion mediante una red neuronal multicapa, con tensorflow. "
   ]
  },
  {
   "cell_type": "markdown",
   "metadata": {},
   "source": [
    "##### EXTRACCION DE LA DATA"
   ]
  },
  {
   "cell_type": "code",
   "execution_count": 28,
   "metadata": {},
   "outputs": [],
   "source": [
    "#Librerias\n",
    "import os\n",
    "from pathlib import Path\n",
    "import struct\n",
    "import numpy as np\n",
    "import matplotlib.pyplot as plt\n",
    "import tensorflow as tf\n",
    "from tensorflow.keras.models import Sequential\n"
   ]
  },
  {
   "cell_type": "code",
   "execution_count": 2,
   "metadata": {},
   "outputs": [],
   "source": [
    "def load_mnist(path, kind='train'):\n",
    "    \"\"\"Carga Mnist data from ´path´\"\"\"\n",
    "    labels_path = os.path.join(path,'%s-labels.idx1-ubyte' % kind)\n",
    "    img_path = os.path.join(path, '%s-images.idx3-ubyte' % kind)\n",
    "\n",
    "    with open(labels_path, 'rb') as lbpath:\n",
    "        magic, n =struct.unpack('>II',lbpath.read(8))\n",
    "        labels = np.fromfile(lbpath,dtype=np.uint8)\n",
    "\n",
    "    with open(img_path, 'rb') as imgpath:\n",
    "        magic,num,rows,cols = struct.unpack(\">IIII\", imgpath.read(16))\n",
    "        images = np.fromfile(imgpath,dtype=np.uint8).reshape(len(labels),784)\n",
    "        images = ((images/255.)-.5)*2\n",
    "    return images, labels"
   ]
  },
  {
   "cell_type": "code",
   "execution_count": 3,
   "metadata": {},
   "outputs": [
    {
     "data": {
      "text/plain": [
       "'C:\\\\Users\\\\ingva\\\\OneDrive\\\\Documents\\\\EstudioML\\\\data\\\\raw'"
      ]
     },
     "execution_count": 3,
     "metadata": {},
     "output_type": "execute_result"
    }
   ],
   "source": [
    "#Capturamos la ruta\n",
    "root=Path('.').resolve().parent\n",
    "datapath=os.path.join(root,'data','raw')\n",
    "datapath"
   ]
  },
  {
   "cell_type": "code",
   "execution_count": 4,
   "metadata": {},
   "outputs": [
    {
     "name": "stdout",
     "output_type": "stream",
     "text": [
      "X_train -- Rows: 60000, Columns: 784\n",
      "y_train -- Rows:60000\n"
     ]
    }
   ],
   "source": [
    "#Extraemos los datos de entrenamiento\n",
    "X_train, y_train = load_mnist(datapath, kind='train')\n",
    "print('X_train -- Rows: %d, Columns: %d' %(X_train.shape[0],X_train.shape[1]))\n",
    "print('y_train -- Rows:%d' %(len(y_train)))"
   ]
  },
  {
   "cell_type": "code",
   "execution_count": 5,
   "metadata": {},
   "outputs": [
    {
     "name": "stdout",
     "output_type": "stream",
     "text": [
      "X_test -- Rows: 10000, Columns: 784\n",
      "y_test -- Rows:10000\n"
     ]
    }
   ],
   "source": [
    "#Extraemos los datos de entrenamiento\n",
    "X_test, y_test = load_mnist(datapath, kind='t10k')\n",
    "print('X_test -- Rows: %d, Columns: %d' %(X_test.shape[0],X_test.shape[1]))\n",
    "print('y_test -- Rows:%d' %(len(y_test)))"
   ]
  },
  {
   "cell_type": "code",
   "execution_count": 6,
   "metadata": {},
   "outputs": [
    {
     "data": {
      "image/png": "[encoded data removed]",
      "text/plain": [
       "<Figure size 640x480 with 10 Axes>"
      ]
     },
     "metadata": {},
     "output_type": "display_data"
    }
   ],
   "source": [
    "#visualimos las imagenes\n",
    "\n",
    "fig, ax =plt.subplots(nrows=2, ncols=5, sharex=True, sharey=True)\n",
    "\n",
    "ax =ax.flatten()\n",
    "\n",
    "for i in range(10):\n",
    "    img= X_train[y_train==i][0].reshape(28,28)\n",
    "    ax[i].imshow(img,cmap='Greys')\n",
    "\n",
    "ax[0].set_xticks([])\n",
    "ax[0].set_yticks([])\n",
    "plt.tight_layout()"
   ]
  },
  {
   "cell_type": "code",
   "execution_count": 7,
   "metadata": {},
   "outputs": [
    {
     "data": {
      "text/plain": [
       "\"\\nnp.savez_compressed('mnist_scaled.npz',\\n                    X_train=X_train,\\n                    y_train=y_train,\\n                    X_test=X_test,\\n                    y_test=y_test)\\n                    \""
      ]
     },
     "execution_count": 7,
     "metadata": {},
     "output_type": "execute_result"
    }
   ],
   "source": [
    "# comprimimos para guardar las imagenes\n",
    "\"\"\"\n",
    "np.savez_compressed('mnist_scaled.npz',\n",
    "                    X_train=X_train,\n",
    "                    y_train=y_train,\n",
    "                    X_test=X_test,\n",
    "                    y_test=y_test)\n",
    "                    \"\"\""
   ]
  },
  {
   "cell_type": "code",
   "execution_count": 10,
   "metadata": {},
   "outputs": [],
   "source": [
    "#para carga los datos\n",
    "mnist =np.load('mnist_scaled.npz')"
   ]
  },
  {
   "cell_type": "code",
   "execution_count": 11,
   "metadata": {},
   "outputs": [
    {
     "data": {
      "text/plain": [
       "['X_train', 'y_train', 'X_test', 'y_test']"
      ]
     },
     "execution_count": 11,
     "metadata": {},
     "output_type": "execute_result"
    }
   ],
   "source": [
    "#vemos los files\n",
    "mnist.files"
   ]
  },
  {
   "cell_type": "code",
   "execution_count": 13,
   "metadata": {},
   "outputs": [
    {
     "name": "stdout",
     "output_type": "stream",
     "text": [
      "-0.7386790474523132\n",
      "-0.7349707883153263\n"
     ]
    }
   ],
   "source": [
    "#normailizacion\n",
    "mean = np.mean(mnist['X_train'])\n",
    "std = np.std(mnist['X_train'])\n",
    "\n",
    "mean_t = np.mean(mnist['X_test'])\n",
    "std_t = np.std(mnist['X_test'])\n",
    "\n",
    "print(mean)\n",
    "print(mean_t)"
   ]
  },
  {
   "cell_type": "code",
   "execution_count": 14,
   "metadata": {},
   "outputs": [],
   "source": [
    "X_train_n=(mnist['X_train'] - mean)/std\n",
    "X_test_n=(mnist['X_test'] - mean_t)/std_t"
   ]
  },
  {
   "cell_type": "code",
   "execution_count": 22,
   "metadata": {},
   "outputs": [
    {
     "name": "stdout",
     "output_type": "stream",
     "text": [
      "first 3 labels:  [5 0 4]\n",
      "first 3 labels:\n",
      " [[0. 0. 0. 0. 0. 1. 0. 0. 0. 0.]\n",
      " [1. 0. 0. 0. 0. 0. 0. 0. 0. 0.]\n",
      " [0. 0. 0. 0. 1. 0. 0. 0. 0. 0.]]\n"
     ]
    }
   ],
   "source": [
    "np.random.seed(123)\n",
    "tf.random.set_seed(123)\n",
    "\n",
    "y_train_ohc = tf.keras.utils.to_categorical(mnist['y_train'])\n",
    "print('first 3 labels: ',mnist['y_train'][:3])\n",
    "\n",
    "print('first 3 labels:\\n',y_train_ohc[:3])"
   ]
  },
  {
   "cell_type": "code",
   "execution_count": 53,
   "metadata": {},
   "outputs": [
    {
     "name": "stderr",
     "output_type": "stream",
     "text": [
      "c:\\Users\\ingva\\anaconda3\\lib\\site-packages\\keras\\src\\layers\\core\\dense.py:85: UserWarning: Do not pass an `input_shape`/`input_dim` argument to a layer. When using Sequential models, prefer using an `Input(shape)` object as the first layer in the model instead.\n",
      "  super().__init__(activity_regularizer=activity_regularizer, **kwargs)\n",
      "c:\\Users\\ingva\\anaconda3\\lib\\site-packages\\keras\\src\\optimizers\\base_optimizer.py:34: UserWarning: Argument `decay` is no longer supported and will be ignored.\n",
      "  warnings.warn(\n"
     ]
    }
   ],
   "source": [
    "model = tf.keras.models.Sequential()\n",
    "\n",
    "model.add(\n",
    "    tf.keras.layers.Dense(\n",
    "        units=50,\n",
    "        input_shape=[X_train_n.shape[1]],\n",
    "        kernel_initializer ='glorot_uniform',\n",
    "        bias_initializer = 'zeros',\n",
    "        activation = 'tanh'\n",
    "    )\n",
    ")\n",
    "\n",
    "model.add(\n",
    "    tf.keras.layers.Dense(\n",
    "        units=50,\n",
    "        input_shape=[50],\n",
    "        kernel_initializer = 'glorot_uniform',\n",
    "        bias_initializer = 'zeros',\n",
    "        activation='tanh'\n",
    "    )\n",
    ")\n",
    "\n",
    "model.add(\n",
    "    tf.keras.layers.Dense(\n",
    "        units=y_train_ohc.shape[1],\n",
    "        input_shape=[50],\n",
    "        kernel_initializer='glorot_uniform',\n",
    "        bias_initializer='zeros',\n",
    "        activation = 'softmax'\n",
    "    )\n",
    ")\n",
    "\n",
    "sgd = tf.keras.optimizers.SGD(learning_rate=0.001, decay=1e-1, momentum =.9)\n",
    "\n",
    "model.compile(optimizer=sgd,loss='categorical_crossentropy')"
   ]
  },
  {
   "cell_type": "code",
   "execution_count": 54,
   "metadata": {},
   "outputs": [
    {
     "name": "stdout",
     "output_type": "stream",
     "text": [
      "Epoch 1/50\n",
      "\u001b[1m844/844\u001b[0m \u001b[32m━━━━━━━━━━━━━━━━━━━━\u001b[0m\u001b[37m\u001b[0m \u001b[1m3s\u001b[0m 2ms/step - loss: 1.1882 - val_loss: 0.3539\n",
      "Epoch 2/50\n",
      "\u001b[1m844/844\u001b[0m \u001b[32m━━━━━━━━━━━━━━━━━━━━\u001b[0m\u001b[37m\u001b[0m \u001b[1m2s\u001b[0m 2ms/step - loss: 0.3795 - val_loss: 0.2638\n",
      "Epoch 3/50\n",
      "\u001b[1m844/844\u001b[0m \u001b[32m━━━━━━━━━━━━━━━━━━━━\u001b[0m\u001b[37m\u001b[0m \u001b[1m2s\u001b[0m 2ms/step - loss: 0.2978 - val_loss: 0.2250\n",
      "Epoch 4/50\n",
      "\u001b[1m844/844\u001b[0m \u001b[32m━━━━━━━━━━━━━━━━━━━━\u001b[0m\u001b[37m\u001b[0m \u001b[1m2s\u001b[0m 2ms/step - loss: 0.2558 - val_loss: 0.2006\n",
      "Epoch 5/50\n",
      "\u001b[1m844/844\u001b[0m \u001b[32m━━━━━━━━━━━━━━━━━━━━\u001b[0m\u001b[37m\u001b[0m \u001b[1m2s\u001b[0m 2ms/step - loss: 0.2268 - val_loss: 0.1834\n",
      "Epoch 6/50\n",
      "\u001b[1m844/844\u001b[0m \u001b[32m━━━━━━━━━━━━━━━━━━━━\u001b[0m\u001b[37m\u001b[0m \u001b[1m2s\u001b[0m 2ms/step - loss: 0.2046 - val_loss: 0.1705\n",
      "Epoch 7/50\n",
      "\u001b[1m844/844\u001b[0m \u001b[32m━━━━━━━━━━━━━━━━━━━━\u001b[0m\u001b[37m\u001b[0m \u001b[1m2s\u001b[0m 2ms/step - loss: 0.1870 - val_loss: 0.1604\n",
      "Epoch 8/50\n",
      "\u001b[1m844/844\u001b[0m \u001b[32m━━━━━━━━━━━━━━━━━━━━\u001b[0m\u001b[37m\u001b[0m \u001b[1m2s\u001b[0m 2ms/step - loss: 0.1725 - val_loss: 0.1523\n",
      "Epoch 9/50\n",
      "\u001b[1m844/844\u001b[0m \u001b[32m━━━━━━━━━━━━━━━━━━━━\u001b[0m\u001b[37m\u001b[0m \u001b[1m2s\u001b[0m 2ms/step - loss: 0.1603 - val_loss: 0.1456\n",
      "Epoch 10/50\n",
      "\u001b[1m844/844\u001b[0m \u001b[32m━━━━━━━━━━━━━━━━━━━━\u001b[0m\u001b[37m\u001b[0m \u001b[1m2s\u001b[0m 2ms/step - loss: 0.1500 - val_loss: 0.1400\n",
      "Epoch 11/50\n",
      "\u001b[1m844/844\u001b[0m \u001b[32m━━━━━━━━━━━━━━━━━━━━\u001b[0m\u001b[37m\u001b[0m \u001b[1m3s\u001b[0m 2ms/step - loss: 0.1410 - val_loss: 0.1352\n",
      "Epoch 12/50\n",
      "\u001b[1m844/844\u001b[0m \u001b[32m━━━━━━━━━━━━━━━━━━━━\u001b[0m\u001b[37m\u001b[0m \u001b[1m2s\u001b[0m 2ms/step - loss: 0.1331 - val_loss: 0.1310\n",
      "Epoch 13/50\n",
      "\u001b[1m844/844\u001b[0m \u001b[32m━━━━━━━━━━━━━━━━━━━━\u001b[0m\u001b[37m\u001b[0m \u001b[1m2s\u001b[0m 2ms/step - loss: 0.1261 - val_loss: 0.1274\n",
      "Epoch 14/50\n",
      "\u001b[1m844/844\u001b[0m \u001b[32m━━━━━━━━━━━━━━━━━━━━\u001b[0m\u001b[37m\u001b[0m \u001b[1m2s\u001b[0m 2ms/step - loss: 0.1199 - val_loss: 0.1242\n",
      "Epoch 15/50\n",
      "\u001b[1m844/844\u001b[0m \u001b[32m━━━━━━━━━━━━━━━━━━━━\u001b[0m\u001b[37m\u001b[0m \u001b[1m2s\u001b[0m 2ms/step - loss: 0.1142 - val_loss: 0.1214\n",
      "Epoch 16/50\n",
      "\u001b[1m844/844\u001b[0m \u001b[32m━━━━━━━━━━━━━━━━━━━━\u001b[0m\u001b[37m\u001b[0m \u001b[1m2s\u001b[0m 2ms/step - loss: 0.1091 - val_loss: 0.1190\n",
      "Epoch 17/50\n",
      "\u001b[1m844/844\u001b[0m \u001b[32m━━━━━━━━━━━━━━━━━━━━\u001b[0m\u001b[37m\u001b[0m \u001b[1m2s\u001b[0m 2ms/step - loss: 0.1045 - val_loss: 0.1168\n",
      "Epoch 18/50\n",
      "\u001b[1m844/844\u001b[0m \u001b[32m━━━━━━━━━━━━━━━━━━━━\u001b[0m\u001b[37m\u001b[0m \u001b[1m2s\u001b[0m 2ms/step - loss: 0.1002 - val_loss: 0.1149\n",
      "Epoch 19/50\n",
      "\u001b[1m844/844\u001b[0m \u001b[32m━━━━━━━━━━━━━━━━━━━━\u001b[0m\u001b[37m\u001b[0m \u001b[1m2s\u001b[0m 2ms/step - loss: 0.0963 - val_loss: 0.1131\n",
      "Epoch 20/50\n",
      "\u001b[1m844/844\u001b[0m \u001b[32m━━━━━━━━━━━━━━━━━━━━\u001b[0m\u001b[37m\u001b[0m \u001b[1m2s\u001b[0m 2ms/step - loss: 0.0927 - val_loss: 0.1116\n",
      "Epoch 21/50\n",
      "\u001b[1m844/844\u001b[0m \u001b[32m━━━━━━━━━━━━━━━━━━━━\u001b[0m\u001b[37m\u001b[0m \u001b[1m2s\u001b[0m 2ms/step - loss: 0.0893 - val_loss: 0.1102\n",
      "Epoch 22/50\n",
      "\u001b[1m844/844\u001b[0m \u001b[32m━━━━━━━━━━━━━━━━━━━━\u001b[0m\u001b[37m\u001b[0m \u001b[1m2s\u001b[0m 2ms/step - loss: 0.0861 - val_loss: 0.1089\n",
      "Epoch 23/50\n",
      "\u001b[1m844/844\u001b[0m \u001b[32m━━━━━━━━━━━━━━━━━━━━\u001b[0m\u001b[37m\u001b[0m \u001b[1m2s\u001b[0m 2ms/step - loss: 0.0831 - val_loss: 0.1077\n",
      "Epoch 24/50\n",
      "\u001b[1m844/844\u001b[0m \u001b[32m━━━━━━━━━━━━━━━━━━━━\u001b[0m\u001b[37m\u001b[0m \u001b[1m2s\u001b[0m 2ms/step - loss: 0.0803 - val_loss: 0.1067\n",
      "Epoch 25/50\n",
      "\u001b[1m844/844\u001b[0m \u001b[32m━━━━━━━━━━━━━━━━━━━━\u001b[0m\u001b[37m\u001b[0m \u001b[1m2s\u001b[0m 2ms/step - loss: 0.0776 - val_loss: 0.1057\n",
      "Epoch 26/50\n",
      "\u001b[1m844/844\u001b[0m \u001b[32m━━━━━━━━━━━━━━━━━━━━\u001b[0m\u001b[37m\u001b[0m \u001b[1m2s\u001b[0m 2ms/step - loss: 0.0751 - val_loss: 0.1048\n",
      "Epoch 27/50\n",
      "\u001b[1m844/844\u001b[0m \u001b[32m━━━━━━━━━━━━━━━━━━━━\u001b[0m\u001b[37m\u001b[0m \u001b[1m2s\u001b[0m 2ms/step - loss: 0.0727 - val_loss: 0.1041\n",
      "Epoch 28/50\n",
      "\u001b[1m844/844\u001b[0m \u001b[32m━━━━━━━━━━━━━━━━━━━━\u001b[0m\u001b[37m\u001b[0m \u001b[1m2s\u001b[0m 2ms/step - loss: 0.0704 - val_loss: 0.1034\n",
      "Epoch 29/50\n",
      "\u001b[1m844/844\u001b[0m \u001b[32m━━━━━━━━━━━━━━━━━━━━\u001b[0m\u001b[37m\u001b[0m \u001b[1m2s\u001b[0m 2ms/step - loss: 0.0682 - val_loss: 0.1028\n",
      "Epoch 30/50\n",
      "\u001b[1m844/844\u001b[0m \u001b[32m━━━━━━━━━━━━━━━━━━━━\u001b[0m\u001b[37m\u001b[0m \u001b[1m2s\u001b[0m 2ms/step - loss: 0.0661 - val_loss: 0.1022\n",
      "Epoch 31/50\n",
      "\u001b[1m844/844\u001b[0m \u001b[32m━━━━━━━━━━━━━━━━━━━━\u001b[0m\u001b[37m\u001b[0m \u001b[1m2s\u001b[0m 2ms/step - loss: 0.0641 - val_loss: 0.1017\n",
      "Epoch 32/50\n",
      "\u001b[1m844/844\u001b[0m \u001b[32m━━━━━━━━━━━━━━━━━━━━\u001b[0m\u001b[37m\u001b[0m \u001b[1m2s\u001b[0m 2ms/step - loss: 0.0622 - val_loss: 0.1013\n",
      "Epoch 33/50\n",
      "\u001b[1m844/844\u001b[0m \u001b[32m━━━━━━━━━━━━━━━━━━━━\u001b[0m\u001b[37m\u001b[0m \u001b[1m2s\u001b[0m 2ms/step - loss: 0.0603 - val_loss: 0.1009\n",
      "Epoch 34/50\n",
      "\u001b[1m844/844\u001b[0m \u001b[32m━━━━━━━━━━━━━━━━━━━━\u001b[0m\u001b[37m\u001b[0m \u001b[1m2s\u001b[0m 2ms/step - loss: 0.0585 - val_loss: 0.1006\n",
      "Epoch 35/50\n",
      "\u001b[1m844/844\u001b[0m \u001b[32m━━━━━━━━━━━━━━━━━━━━\u001b[0m\u001b[37m\u001b[0m \u001b[1m2s\u001b[0m 2ms/step - loss: 0.0568 - val_loss: 0.1003\n",
      "Epoch 36/50\n",
      "\u001b[1m844/844\u001b[0m \u001b[32m━━━━━━━━━━━━━━━━━━━━\u001b[0m\u001b[37m\u001b[0m \u001b[1m2s\u001b[0m 2ms/step - loss: 0.0551 - val_loss: 0.1000\n",
      "Epoch 37/50\n",
      "\u001b[1m844/844\u001b[0m \u001b[32m━━━━━━━━━━━━━━━━━━━━\u001b[0m\u001b[37m\u001b[0m \u001b[1m2s\u001b[0m 2ms/step - loss: 0.0535 - val_loss: 0.0998\n",
      "Epoch 38/50\n",
      "\u001b[1m844/844\u001b[0m \u001b[32m━━━━━━━━━━━━━━━━━━━━\u001b[0m\u001b[37m\u001b[0m \u001b[1m2s\u001b[0m 2ms/step - loss: 0.0520 - val_loss: 0.0996\n",
      "Epoch 39/50\n",
      "\u001b[1m844/844\u001b[0m \u001b[32m━━━━━━━━━━━━━━━━━━━━\u001b[0m\u001b[37m\u001b[0m \u001b[1m2s\u001b[0m 2ms/step - loss: 0.0505 - val_loss: 0.0995\n",
      "Epoch 40/50\n",
      "\u001b[1m844/844\u001b[0m \u001b[32m━━━━━━━━━━━━━━━━━━━━\u001b[0m\u001b[37m\u001b[0m \u001b[1m2s\u001b[0m 2ms/step - loss: 0.0491 - val_loss: 0.0993\n",
      "Epoch 41/50\n",
      "\u001b[1m844/844\u001b[0m \u001b[32m━━━━━━━━━━━━━━━━━━━━\u001b[0m\u001b[37m\u001b[0m \u001b[1m2s\u001b[0m 3ms/step - loss: 0.0477 - val_loss: 0.0992\n",
      "Epoch 42/50\n",
      "\u001b[1m844/844\u001b[0m \u001b[32m━━━━━━━━━━━━━━━━━━━━\u001b[0m\u001b[37m\u001b[0m \u001b[1m2s\u001b[0m 2ms/step - loss: 0.0464 - val_loss: 0.0992\n",
      "Epoch 43/50\n",
      "\u001b[1m844/844\u001b[0m \u001b[32m━━━━━━━━━━━━━━━━━━━━\u001b[0m\u001b[37m\u001b[0m \u001b[1m2s\u001b[0m 2ms/step - loss: 0.0451 - val_loss: 0.0991\n",
      "Epoch 44/50\n",
      "\u001b[1m844/844\u001b[0m \u001b[32m━━━━━━━━━━━━━━━━━━━━\u001b[0m\u001b[37m\u001b[0m \u001b[1m2s\u001b[0m 2ms/step - loss: 0.0439 - val_loss: 0.0991\n",
      "Epoch 45/50\n",
      "\u001b[1m844/844\u001b[0m \u001b[32m━━━━━━━━━━━━━━━━━━━━\u001b[0m\u001b[37m\u001b[0m \u001b[1m2s\u001b[0m 2ms/step - loss: 0.0427 - val_loss: 0.0991\n",
      "Epoch 46/50\n",
      "\u001b[1m844/844\u001b[0m \u001b[32m━━━━━━━━━━━━━━━━━━━━\u001b[0m\u001b[37m\u001b[0m \u001b[1m2s\u001b[0m 2ms/step - loss: 0.0415 - val_loss: 0.0991\n",
      "Epoch 47/50\n",
      "\u001b[1m844/844\u001b[0m \u001b[32m━━━━━━━━━━━━━━━━━━━━\u001b[0m\u001b[37m\u001b[0m \u001b[1m2s\u001b[0m 2ms/step - loss: 0.0404 - val_loss: 0.0991\n",
      "Epoch 48/50\n",
      "\u001b[1m844/844\u001b[0m \u001b[32m━━━━━━━━━━━━━━━━━━━━\u001b[0m\u001b[37m\u001b[0m \u001b[1m2s\u001b[0m 2ms/step - loss: 0.0393 - val_loss: 0.0991\n",
      "Epoch 49/50\n",
      "\u001b[1m844/844\u001b[0m \u001b[32m━━━━━━━━━━━━━━━━━━━━\u001b[0m\u001b[37m\u001b[0m \u001b[1m2s\u001b[0m 2ms/step - loss: 0.0383 - val_loss: 0.0992\n",
      "Epoch 50/50\n",
      "\u001b[1m844/844\u001b[0m \u001b[32m━━━━━━━━━━━━━━━━━━━━\u001b[0m\u001b[37m\u001b[0m \u001b[1m2s\u001b[0m 2ms/step - loss: 0.0373 - val_loss: 0.0993\n"
     ]
    }
   ],
   "source": [
    "history = model.fit(X_train_n,y_train_ohc,batch_size=64, epochs=50,verbose=1,validation_split=0.1)"
   ]
  },
  {
   "cell_type": "code",
   "execution_count": 64,
   "metadata": {},
   "outputs": [
    {
     "name": "stdout",
     "output_type": "stream",
     "text": [
      "frist 3 predicts: [5 0 4]\n"
     ]
    }
   ],
   "source": [
    "y_train_pred=np.argmax(model.predict(X_train_n, verbose=0),axis=1)\n",
    "print('frist 3 predicts:', y_train_pred[:3])"
   ]
  },
  {
   "cell_type": "code",
   "execution_count": 62,
   "metadata": {},
   "outputs": [
    {
     "name": "stdout",
     "output_type": "stream",
     "text": [
      "frist 3 predicts: [[4.5364472e-06 1.7618695e-05 1.3317505e-04 2.1955863e-01 3.6782560e-06\n",
      "  7.8006607e-01 1.0926719e-06 1.5908014e-05 1.6948748e-04 2.9768131e-05]\n",
      " [9.9974662e-01 3.0917701e-07 2.6782414e-05 9.6678001e-08 2.7028148e-07\n",
      "  1.1687703e-05 1.0652318e-04 1.2469475e-06 3.7940452e-05 6.8563961e-05]\n",
      " [7.4046392e-07 4.7097442e-06 3.5160064e-04 1.5202985e-04 9.9907035e-01\n",
      "  4.4877775e-06 2.0717720e-05 2.2310762e-04 1.7153261e-05 1.5518224e-04]]\n"
     ]
    }
   ],
   "source": [
    "y_train_pred=model.predict(X_train_n, verbose=0)\n",
    "print('frist 3 predicts:', y_train_pred[:3])"
   ]
  },
  {
   "cell_type": "code",
   "execution_count": 65,
   "metadata": {},
   "outputs": [
    {
     "data": {
      "text/plain": [
       "59451"
      ]
     },
     "execution_count": 65,
     "metadata": {},
     "output_type": "execute_result"
    }
   ],
   "source": [
    "correct_predict_train = np.sum(y_train==y_train_pred)\n",
    "correct_predict_train"
   ]
  },
  {
   "cell_type": "code",
   "execution_count": 67,
   "metadata": {},
   "outputs": [
    {
     "data": {
      "text/plain": [
       "0.99085"
      ]
     },
     "execution_count": 67,
     "metadata": {},
     "output_type": "execute_result"
    }
   ],
   "source": [
    "train_accuracy = correct_predict_train/y_train.shape[0]\n",
    "train_accuracy"
   ]
  },
  {
   "cell_type": "code",
   "execution_count": 68,
   "metadata": {},
   "outputs": [
    {
     "data": {
      "text/plain": [
       "0.9677"
      ]
     },
     "execution_count": 68,
     "metadata": {},
     "output_type": "execute_result"
    }
   ],
   "source": [
    "#prediccion test\n",
    "\n",
    "y_test_predict =np.argmax(model.predict(X_test_n, verbose=0), axis=1)\n",
    "correct_test =np.sum(y_test==y_test_predict)\n",
    "test_accuracy = correct_test/y_test.shape[0]\n",
    "test_accuracy"
   ]
  }
 ],
 "metadata": {
  "kernelspec": {
   "display_name": "base",
   "language": "python",
   "name": "python3"
  },
  "language_info": {
   "codemirror_mode": {
    "name": "ipython",
    "version": 3
   },
   "file_extension": ".py",
   "mimetype": "text/x-python",
   "name": "python",
   "nbconvert_exporter": "python",
   "pygments_lexer": "ipython3",
   "version": "3.10.9"
  }
 },
 "nbformat": 4,
 "nbformat_minor": 2
}

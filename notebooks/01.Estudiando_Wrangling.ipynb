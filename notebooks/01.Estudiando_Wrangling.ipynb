{
 "cells": [
  {
   "cell_type": "markdown",
   "metadata": {},
   "source": [
    "# ESTUDIANDO WRANGLING"
   ]
  },
  {
   "cell_type": "code",
   "execution_count": 770,
   "metadata": {},
   "outputs": [],
   "source": [
    "#importamos librerias\n",
    "import pandas as pd\n",
    "import numpy as np\n",
    "import os\n",
    "from pathlib import Path\n",
    "import matplotlib.pyplot as plt"
   ]
  },
  {
   "cell_type": "code",
   "execution_count": 771,
   "metadata": {},
   "outputs": [
    {
     "data": {
      "text/plain": [
       "'C:\\\\Users\\\\ADRIA\\\\OneDrive\\\\Documentos\\\\Kucta_BIGDATA\\\\data\\\\raw\\\\reportDTP.csv'"
      ]
     },
     "execution_count": 771,
     "metadata": {},
     "output_type": "execute_result"
    }
   ],
   "source": [
    "#ruta del archivo\n",
    "filename=\"reportDTP.csv\"\n",
    "root_dir=Path(\".\").resolve().parent\n",
    "filepath=os.path.join(root_dir,\"data\",\"raw\",filename)\n",
    "filepath\n"
   ]
  },
  {
   "cell_type": "code",
   "execution_count": 772,
   "metadata": {},
   "outputs": [
    {
     "name": "stdout",
     "output_type": "stream",
     "text": [
      "<class 'pandas.core.frame.DataFrame'>\n",
      "RangeIndex: 5 entries, 0 to 4\n",
      "Data columns (total 17 columns):\n",
      " #   Column                                                 Non-Null Count  Dtype \n",
      "---  ------                                                 --------------  ----- \n",
      " 0   \"CMS_Country_Code                                      5 non-null      object\n",
      " 1   \"Transacción de pedido de muestra: Tipo de registro\"\"  5 non-null      object\n",
      " 2   \"Estado\"\"                                              5 non-null      object\n",
      " 3   \"Transacción de pedido de muestra: Transaction Id\"\"    5 non-null      object\n",
      " 4   \"ID envío\"\"                                            5 non-null      object\n",
      " 5   \"Transacción de pedido de muestra: Id.\"\"               5 non-null      object\n",
      " 6   \"País de envío\"\"                                       5 non-null      object\n",
      " 7   \"Muestra\"\"                                             5 non-null      object\n",
      " 8   \"Transacción de pedido de muestra: Creado por\"\"        5 non-null      object\n",
      " 9   \"Nombre de la cuenta\"\"                                 5 non-null      object\n",
      " 10  \"Fecha de caducidad DEA\"\"                              5 non-null      object\n",
      " 11  \"Fecha de visita\"\"                                     5 non-null      object\n",
      " 12  \"Cantidad\"\"                                            5 non-null      object\n",
      " 13  \"Estado de entrega\"\"                                   5 non-null      object\n",
      " 14  \"Territorio\"\"                                          5 non-null      object\n",
      " 15  \"Nombre de la visita\"\"                                 5 non-null      object\n",
      " 16  \"Delivery Instructions\"\"\"                              5 non-null      object\n",
      "dtypes: object(17)\n",
      "memory usage: 808.0+ bytes\n"
     ]
    },
    {
     "name": "stderr",
     "output_type": "stream",
     "text": [
      "C:\\Users\\ADRIA\\AppData\\Local\\Temp\\ipykernel_31912\\3635799585.py:2: ParserWarning: Falling back to the 'python' engine because the 'c' engine does not support regex separators (separators > 1 char and different from '\\s+' are interpreted as regex); you can avoid this warning by specifying engine='python'.\n",
      "  data=pd.read_csv(filepath, delimiter=';\"' ,encoding='latin-1')\n"
     ]
    }
   ],
   "source": [
    "#Leer el archivo\n",
    "data=pd.read_csv(filepath, delimiter=';\"' ,encoding='latin-1')\n",
    "data.info()\n"
   ]
  },
  {
   "cell_type": "code",
   "execution_count": 773,
   "metadata": {},
   "outputs": [
    {
     "data": {
      "text/plain": [
       "Index(['\"CMS_Country_Code',\n",
       "       '\"Transacción de pedido de muestra: Tipo de registro\"\"', '\"Estado\"\"',\n",
       "       '\"Transacción de pedido de muestra: Transaction Id\"\"', '\"ID envío\"\"',\n",
       "       '\"Transacción de pedido de muestra: Id.\"\"', '\"País de envío\"\"',\n",
       "       '\"Muestra\"\"', '\"Transacción de pedido de muestra: Creado por\"\"',\n",
       "       '\"Nombre de la cuenta\"\"', '\"Fecha de caducidad DEA\"\"',\n",
       "       '\"Fecha de visita\"\"', '\"Cantidad\"\"', '\"Estado de entrega\"\"',\n",
       "       '\"Territorio\"\"', '\"Nombre de la visita\"\"', '\"Delivery Instructions\"\"\"'],\n",
       "      dtype='object')"
      ]
     },
     "execution_count": 773,
     "metadata": {},
     "output_type": "execute_result"
    }
   ],
   "source": [
    "data.columns"
   ]
  },
  {
   "cell_type": "code",
   "execution_count": 774,
   "metadata": {},
   "outputs": [],
   "source": [
    "columns=['\"Transacción de pedido de muestra: Tipo de registro\"\"',\n",
    "       '\"Transacción de pedido de muestra: Transaction Id\"\"',\n",
    "       '\"Transacción de pedido de muestra: Id.\"\"', '\"Transacción de pedido de muestra: Creado por\"\"']"
   ]
  },
  {
   "cell_type": "code",
   "execution_count": 775,
   "metadata": {},
   "outputs": [
    {
     "name": "stdout",
     "output_type": "stream",
     "text": [
      "\"Transacción de pedido de muestra: Tipo de registro\"\"\n",
      "Creado por\"\n"
     ]
    },
    {
     "data": {
      "text/html": [
       "<div>\n",
       "<style scoped>\n",
       "    .dataframe tbody tr th:only-of-type {\n",
       "        vertical-align: middle;\n",
       "    }\n",
       "\n",
       "    .dataframe tbody tr th {\n",
       "        vertical-align: top;\n",
       "    }\n",
       "\n",
       "    .dataframe thead th {\n",
       "        text-align: right;\n",
       "    }\n",
       "</style>\n",
       "<table border=\"1\" class=\"dataframe\">\n",
       "  <thead>\n",
       "    <tr style=\"text-align: right;\">\n",
       "      <th></th>\n",
       "      <th>level_0</th>\n",
       "      <th>Tipo de registro\"</th>\n",
       "      <th>Transaction Id\"</th>\n",
       "      <th>Id.\"</th>\n",
       "      <th>Creado por\"</th>\n",
       "    </tr>\n",
       "  </thead>\n",
       "  <tbody>\n",
       "    <tr>\n",
       "      <th>0</th>\n",
       "      <td>0</td>\n",
       "      <td>\"BRC\"\"</td>\n",
       "      <td>\"SOT-000015757\"\"</td>\n",
       "      <td>\"a0z4O00000Ie2Rt\"\"</td>\n",
       "      <td>\"Rodolfo Perez\"\"</td>\n",
       "    </tr>\n",
       "    <tr>\n",
       "      <th>1</th>\n",
       "      <td>1</td>\n",
       "      <td>\"BRC\"\"</td>\n",
       "      <td>\"SOT-000015758\"\"</td>\n",
       "      <td>\"a0z4O00000Ie2Ru\"\"</td>\n",
       "      <td>\"Rodolfo Perez\"\"</td>\n",
       "    </tr>\n",
       "    <tr>\n",
       "      <th>2</th>\n",
       "      <td>2</td>\n",
       "      <td>\"BRC\"\"</td>\n",
       "      <td>\"SOT-000015851\"\"</td>\n",
       "      <td>\"a0z4O00000Ie6p2\"\"</td>\n",
       "      <td>\"SUSANA VALVERDE\"\"</td>\n",
       "    </tr>\n",
       "    <tr>\n",
       "      <th>3</th>\n",
       "      <td>3</td>\n",
       "      <td>\"BRC\"\"</td>\n",
       "      <td>\"SOT-000015852\"\"</td>\n",
       "      <td>\"a0z4O00000Ie6p3\"\"</td>\n",
       "      <td>\"SUSANA VALVERDE\"\"</td>\n",
       "    </tr>\n",
       "    <tr>\n",
       "      <th>4</th>\n",
       "      <td>4</td>\n",
       "      <td>\"BRC\"\"</td>\n",
       "      <td>\"SOT-000015828\"\"</td>\n",
       "      <td>\"a0z4O00000Ie3UU\"\"</td>\n",
       "      <td>\"GUSTAVO MURO\"\"</td>\n",
       "    </tr>\n",
       "  </tbody>\n",
       "</table>\n",
       "</div>"
      ],
      "text/plain": [
       "   level_0 Tipo de registro\"   Transaction Id\"                Id.\"  \\\n",
       "0        0            \"BRC\"\"  \"SOT-000015757\"\"  \"a0z4O00000Ie2Rt\"\"   \n",
       "1        1            \"BRC\"\"  \"SOT-000015758\"\"  \"a0z4O00000Ie2Ru\"\"   \n",
       "2        2            \"BRC\"\"  \"SOT-000015851\"\"  \"a0z4O00000Ie6p2\"\"   \n",
       "3        3            \"BRC\"\"  \"SOT-000015852\"\"  \"a0z4O00000Ie6p3\"\"   \n",
       "4        4            \"BRC\"\"  \"SOT-000015828\"\"  \"a0z4O00000Ie3UU\"\"   \n",
       "\n",
       "          Creado por\"  \n",
       "0    \"Rodolfo Perez\"\"  \n",
       "1    \"Rodolfo Perez\"\"  \n",
       "2  \"SUSANA VALVERDE\"\"  \n",
       "3  \"SUSANA VALVERDE\"\"  \n",
       "4     \"GUSTAVO MURO\"\"  "
      ]
     },
     "execution_count": 775,
     "metadata": {},
     "output_type": "execute_result"
    }
   ],
   "source": [
    "#columns=list(data.columns)\n",
    "from ast import Index\n",
    "\n",
    "\n",
    "print((columns[0]))\n",
    "i=0\n",
    "Frames=[]\n",
    "#for column in columns:\n",
    "print(columns[35:-1])\n",
    "Frames=[data[column].reset_index().rename(columns={column : column[35:-1]}) for column in columns]\n",
    "i=i+1      \n",
    "    \n",
    "Frames[:]\n",
    "Frames=pd.concat(Frames, axis=1).reset_index()\n",
    "Frames.pop(\"index\")\n",
    "Frames"
   ]
  },
  {
   "cell_type": "code",
   "execution_count": 776,
   "metadata": {},
   "outputs": [
    {
     "data": {
      "text/plain": [
       "(5, 5)"
      ]
     },
     "execution_count": 776,
     "metadata": {},
     "output_type": "execute_result"
    }
   ],
   "source": [
    "Frames.shape"
   ]
  },
  {
   "cell_type": "code",
   "execution_count": 777,
   "metadata": {},
   "outputs": [
    {
     "data": {
      "text/plain": [
       "pandas.core.frame.DataFrame"
      ]
     },
     "execution_count": 777,
     "metadata": {},
     "output_type": "execute_result"
    }
   ],
   "source": [
    "Frames.loc[Frames.level_0 >2,'level_0']=\"NO\"\n",
    "Frames.iloc[:,2]=\"Adrian\"\n",
    "\n",
    "Frames[\"Selector\"]=\"NaN\"\n",
    "\n",
    "#Frames['Selector']\n",
    "for i in range(0,Frames.shape[0]):\n",
    "    Frames.iloc[i,2]=\"AR0\"+ str(i)\n",
    "\n",
    "type(Frames)\n"
   ]
  },
  {
   "cell_type": "code",
   "execution_count": 778,
   "metadata": {},
   "outputs": [
    {
     "data": {
      "text/html": [
       "<div>\n",
       "<style scoped>\n",
       "    .dataframe tbody tr th:only-of-type {\n",
       "        vertical-align: middle;\n",
       "    }\n",
       "\n",
       "    .dataframe tbody tr th {\n",
       "        vertical-align: top;\n",
       "    }\n",
       "\n",
       "    .dataframe thead th {\n",
       "        text-align: right;\n",
       "    }\n",
       "</style>\n",
       "<table border=\"1\" class=\"dataframe\">\n",
       "  <thead>\n",
       "    <tr style=\"text-align: right;\">\n",
       "      <th></th>\n",
       "      <th>level_0</th>\n",
       "      <th>Tipo de registro\"</th>\n",
       "      <th>Transaction Id\"</th>\n",
       "      <th>Id.\"</th>\n",
       "      <th>Creado por\"</th>\n",
       "      <th>Selector</th>\n",
       "      <th>Id_New</th>\n",
       "    </tr>\n",
       "  </thead>\n",
       "  <tbody>\n",
       "    <tr>\n",
       "      <th>0</th>\n",
       "      <td>0</td>\n",
       "      <td>\"BRC\"\"</td>\n",
       "      <td>AR00</td>\n",
       "      <td>\"a0z4O00000Ie2Rt\"\"</td>\n",
       "      <td>\"Rodolfo Perez\"\"</td>\n",
       "      <td>NaN</td>\n",
       "      <td>0Ie2Rt</td>\n",
       "    </tr>\n",
       "    <tr>\n",
       "      <th>1</th>\n",
       "      <td>1</td>\n",
       "      <td>\"BRC\"\"</td>\n",
       "      <td>AR01</td>\n",
       "      <td>\"a0z4O00000Ie2Ru\"\"</td>\n",
       "      <td>\"Rodolfo Perez\"\"</td>\n",
       "      <td>NaN</td>\n",
       "      <td>0Ie2Ru</td>\n",
       "    </tr>\n",
       "    <tr>\n",
       "      <th>2</th>\n",
       "      <td>2</td>\n",
       "      <td>\"BRC\"\"</td>\n",
       "      <td>AR02</td>\n",
       "      <td>\"a0z4O00000Ie6p2\"\"</td>\n",
       "      <td>\"SUSANA VALVERDE\"\"</td>\n",
       "      <td>NaN</td>\n",
       "      <td>0Ie6p2</td>\n",
       "    </tr>\n",
       "    <tr>\n",
       "      <th>3</th>\n",
       "      <td>NO</td>\n",
       "      <td>\"BRC\"\"</td>\n",
       "      <td>AR03</td>\n",
       "      <td>\"a0z4O00000Ie6p3\"\"</td>\n",
       "      <td>\"SUSANA VALVERDE\"\"</td>\n",
       "      <td>NaN</td>\n",
       "      <td>0Ie6p3</td>\n",
       "    </tr>\n",
       "    <tr>\n",
       "      <th>4</th>\n",
       "      <td>NO</td>\n",
       "      <td>\"BRC\"\"</td>\n",
       "      <td>AR04</td>\n",
       "      <td>\"a0z4O00000Ie3UU\"\"</td>\n",
       "      <td>\"GUSTAVO MURO\"\"</td>\n",
       "      <td>NaN</td>\n",
       "      <td>0Ie3UU</td>\n",
       "    </tr>\n",
       "  </tbody>\n",
       "</table>\n",
       "</div>"
      ],
      "text/plain": [
       "  level_0 Tipo de registro\" Transaction Id\"                Id.\"  \\\n",
       "0       0            \"BRC\"\"            AR00  \"a0z4O00000Ie2Rt\"\"   \n",
       "1       1            \"BRC\"\"            AR01  \"a0z4O00000Ie2Ru\"\"   \n",
       "2       2            \"BRC\"\"            AR02  \"a0z4O00000Ie6p2\"\"   \n",
       "3      NO            \"BRC\"\"            AR03  \"a0z4O00000Ie6p3\"\"   \n",
       "4      NO            \"BRC\"\"            AR04  \"a0z4O00000Ie3UU\"\"   \n",
       "\n",
       "          Creado por\" Selector  Id_New  \n",
       "0    \"Rodolfo Perez\"\"      NaN  0Ie2Rt  \n",
       "1    \"Rodolfo Perez\"\"      NaN  0Ie2Ru  \n",
       "2  \"SUSANA VALVERDE\"\"      NaN  0Ie6p2  \n",
       "3  \"SUSANA VALVERDE\"\"      NaN  0Ie6p3  \n",
       "4     \"GUSTAVO MURO\"\"      NaN  0Ie3UU  "
      ]
     },
     "execution_count": 778,
     "metadata": {},
     "output_type": "execute_result"
    }
   ],
   "source": [
    "Frames['Id_New']=Frames['Id.\"'].str[-8:-2]\n",
    "\n",
    "Frames"
   ]
  },
  {
   "cell_type": "code",
   "execution_count": 779,
   "metadata": {},
   "outputs": [
    {
     "data": {
      "text/html": [
       "<div>\n",
       "<style scoped>\n",
       "    .dataframe tbody tr th:only-of-type {\n",
       "        vertical-align: middle;\n",
       "    }\n",
       "\n",
       "    .dataframe tbody tr th {\n",
       "        vertical-align: top;\n",
       "    }\n",
       "\n",
       "    .dataframe thead th {\n",
       "        text-align: right;\n",
       "    }\n",
       "</style>\n",
       "<table border=\"1\" class=\"dataframe\">\n",
       "  <thead>\n",
       "    <tr style=\"text-align: right;\">\n",
       "      <th></th>\n",
       "      <th>level_0</th>\n",
       "      <th>Tipo de registro\"</th>\n",
       "      <th>Transaction Id\"</th>\n",
       "      <th>Id.\"</th>\n",
       "      <th>Creado por\"</th>\n",
       "      <th>Selector</th>\n",
       "      <th>Id_New</th>\n",
       "    </tr>\n",
       "  </thead>\n",
       "  <tbody>\n",
       "    <tr>\n",
       "      <th>0</th>\n",
       "      <td>Adrian</td>\n",
       "      <td>\"BRC\"\"</td>\n",
       "      <td>AR00</td>\n",
       "      <td>\"a0z4O00000Ie2Rt\"\"</td>\n",
       "      <td>\"Rodolfo Perez\"\"</td>\n",
       "      <td>NaN</td>\n",
       "      <td>0Ie2Rt</td>\n",
       "    </tr>\n",
       "    <tr>\n",
       "      <th>1</th>\n",
       "      <td>1</td>\n",
       "      <td>Adrian</td>\n",
       "      <td>AR01</td>\n",
       "      <td>\"a0z4O00000Ie2Ru\"\"</td>\n",
       "      <td>\"Rodolfo Perez\"\"</td>\n",
       "      <td>NaN</td>\n",
       "      <td>0Ie2Ru</td>\n",
       "    </tr>\n",
       "    <tr>\n",
       "      <th>2</th>\n",
       "      <td>2</td>\n",
       "      <td>\"BRC\"\"</td>\n",
       "      <td>Adrian</td>\n",
       "      <td>\"a0z4O00000Ie6p2\"\"</td>\n",
       "      <td>\"SUSANA VALVERDE\"\"</td>\n",
       "      <td>NaN</td>\n",
       "      <td>0Ie6p2</td>\n",
       "    </tr>\n",
       "    <tr>\n",
       "      <th>3</th>\n",
       "      <td>NO</td>\n",
       "      <td>\"BRC\"\"</td>\n",
       "      <td>AR03</td>\n",
       "      <td>Adrian</td>\n",
       "      <td>\"SUSANA VALVERDE\"\"</td>\n",
       "      <td>NaN</td>\n",
       "      <td>0Ie6p3</td>\n",
       "    </tr>\n",
       "    <tr>\n",
       "      <th>4</th>\n",
       "      <td>NO</td>\n",
       "      <td>\"BRC\"\"</td>\n",
       "      <td>AR04</td>\n",
       "      <td>\"a0z4O00000Ie3UU\"\"</td>\n",
       "      <td>Adrian</td>\n",
       "      <td>NaN</td>\n",
       "      <td>0Ie3UU</td>\n",
       "    </tr>\n",
       "  </tbody>\n",
       "</table>\n",
       "</div>"
      ],
      "text/plain": [
       "  level_0 Tipo de registro\" Transaction Id\"                Id.\"  \\\n",
       "0  Adrian            \"BRC\"\"            AR00  \"a0z4O00000Ie2Rt\"\"   \n",
       "1       1            Adrian            AR01  \"a0z4O00000Ie2Ru\"\"   \n",
       "2       2            \"BRC\"\"          Adrian  \"a0z4O00000Ie6p2\"\"   \n",
       "3      NO            \"BRC\"\"            AR03              Adrian   \n",
       "4      NO            \"BRC\"\"            AR04  \"a0z4O00000Ie3UU\"\"   \n",
       "\n",
       "          Creado por\" Selector  Id_New  \n",
       "0    \"Rodolfo Perez\"\"      NaN  0Ie2Rt  \n",
       "1    \"Rodolfo Perez\"\"      NaN  0Ie2Ru  \n",
       "2  \"SUSANA VALVERDE\"\"      NaN  0Ie6p2  \n",
       "3  \"SUSANA VALVERDE\"\"      NaN  0Ie6p3  \n",
       "4              Adrian      NaN  0Ie3UU  "
      ]
     },
     "execution_count": 779,
     "metadata": {},
     "output_type": "execute_result"
    }
   ],
   "source": [
    "for i in range(0,Frames.shape[0]):\n",
    "    for j in range(0,Frames.shape[1]):\n",
    "        if i == j :\n",
    "            Frames.iloc[i,j]=\"Adrian\"\n",
    "Frames        "
   ]
  }
 ],
 "metadata": {
  "kernelspec": {
   "display_name": "Python 3.9.12 ('base')",
   "language": "python",
   "name": "python3"
  },
  "language_info": {
   "codemirror_mode": {
    "name": "ipython",
    "version": 3
   },
   "file_extension": ".py",
   "mimetype": "text/x-python",
   "name": "python",
   "nbconvert_exporter": "python",
   "pygments_lexer": "ipython3",
   "version": "3.9.12"
  },
  "orig_nbformat": 4,
  "vscode": {
   "interpreter": {
    "hash": "30d74844be1808c9260ccdfa7b4b7d4ee4b0ec4487d52a05d331b08e68d80094"
   }
  }
 },
 "nbformat": 4,
 "nbformat_minor": 2
}
